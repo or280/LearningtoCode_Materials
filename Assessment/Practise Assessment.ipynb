{
 "cells": [
  {
   "cell_type": "code",
   "execution_count": 2,
   "metadata": {},
   "outputs": [],
   "source": [
    "import numpy as np\n",
    "import math"
   ]
  },
  {
   "cell_type": "markdown",
   "metadata": {},
   "source": [
    "### Load the data\n",
    "\n",
    "There is some data is the file called 'data.csv'. The values are delimited by commas, with comments marked at the beginning of the line with a #.\n",
    "\n",
    "Using the numpy function \"genfromtxt\" or otherwise load th ata into a numpy array with the first column being the force adn the second being the strain. Print the resulting array."
   ]
  },
  {
   "cell_type": "code",
   "execution_count": 5,
   "metadata": {},
   "outputs": [
    {
     "name": "stdout",
     "output_type": "stream",
     "text": [
      "[[ 2.98000000e+01  0.00000000e+00]\n",
      " [ 2.94000000e+01 -1.36240000e-05]\n",
      " [ 2.97000000e+01  0.00000000e+00]\n",
      " ...\n",
      " [ 4.26000000e+00  4.06730245e-01]\n",
      " [ 3.85000000e+00  4.06730245e-01]\n",
      " [ 4.85000000e+00  4.06730245e-01]]\n"
     ]
    }
   ],
   "source": [
    "array = np.genfromtxt(\"data.csv\", delimiter=\",\")\n",
    "\n",
    "print(array)"
   ]
  },
  {
   "cell_type": "markdown",
   "metadata": {},
   "source": [
    "### Process the data\n",
    "\n",
    "Using the information in the header of the data file, calculate the true stress from the force, in units of pascals. Remember that true stress has the form:\n",
    "\n",
    "$$\n",
    "\\sigma_\\text{T} = \\sigma ( 1 + \\varepsilon)\n",
    "$$\n",
    "\n",
    "You should assign the resultant array to the variablename \"true_stress\". Also assign the strain to the name \"true_strain\". (These strains are the true strains)"
   ]
  },
  {
   "cell_type": "code",
   "execution_count": 25,
   "metadata": {},
   "outputs": [
    {
     "name": "stdout",
     "output_type": "stream",
     "text": [
      "1561106.543664358\n",
      "999\n"
     ]
    }
   ],
   "source": [
    "stress = (array[:,0])*4/(1e-6*np.pi*4.93**2)\n",
    "true_strain = array[:,1]\n",
    "true_stress = []\n",
    "\n",
    "\n",
    "for i in range (len(stress)):\n",
    "    comp = stress[i]*(1+true_strain[i])\n",
    "    true_stress.append(comp)\n",
    "    \n",
    "   \n",
    "print(true_stress[0])\n",
    "print(len(true_strain))\n"
   ]
  },
  {
   "cell_type": "code",
   "execution_count": 26,
   "metadata": {},
   "outputs": [
    {
     "name": "stdout",
     "output_type": "stream",
     "text": [
      "Stress is defined\n",
      "Strain is defined\n",
      "The data match sizes\n",
      "Units seem to match\n"
     ]
    }
   ],
   "source": [
    "# Check to see if you've managed it:\n",
    "def check_var(var):\n",
    "    try:\n",
    "        var\n",
    "        return True\n",
    "    except NameError:\n",
    "        return False\n",
    "    \n",
    "if check_var(true_stress):\n",
    "    print('Stress is defined')\n",
    "if check_var(true_strain):\n",
    "    print('Strain is defined')\n",
    "if len(true_strain) == len(true_stress):\n",
    "    print(\"The data match sizes\")\n",
    "if math.fabs(true_stress[0] - 1561106.54) < 0.1:\n",
    "    print('Units seem to match')"
   ]
  },
  {
   "cell_type": "markdown",
   "metadata": {},
   "source": [
    "### Plotting the data\n",
    "\n",
    "Import the pyplot module from the matplotlib package. Plot the data."
   ]
  },
  {
   "cell_type": "code",
   "execution_count": 41,
   "metadata": {},
   "outputs": [],
   "source": [
    "%matplotlib inline\n",
    "import matplotlib\n",
    "import matplotlib.pyplot as plt"
   ]
  },
  {
   "cell_type": "markdown",
   "metadata": {},
   "source": [
    "### Define a function\n",
    "\n",
    "One empirical function that is used to fit stress-strain data in called the Voce curve. The function should take strain as the first argument, in the form of a 1-D array. The remaining arguments should be the parameters of the Voce curve.\n",
    "\n",
    "The curve follows the form:\n",
    "\n",
    "$$\n",
    "\\sigma = \\sigma_\\text{s} - (\\sigma_{s} - \\sigma_{\\text{y}}) \\exp \\left(- \\frac{\\varepsilon_\\text{P}}{\\varepsilon_0} \\right)\n",
    "$$\n",
    "\n",
    "where $\\sigma_s$ is the saturation stress, $\\sigma_\\text{y}$ is the yield stress, $\\varepsilon_\\text{P}$ is the plastic strain and $\\varepsilon_0$ is a characteristic value of the exponential.\n",
    "\n",
    "The data file contains plastic strain.\n",
    "\n",
    "The function should return stress as an array with the same size and shape as the strain array, and with units of pascals"
   ]
  },
  {
   "cell_type": "code",
   "execution_count": 28,
   "metadata": {},
   "outputs": [],
   "source": [
    "def voce(strain, sigma_s, sigma_y, epsilon_0):\n",
    "    # Put some code here to make the Voce work\n",
    "    stress = []\n",
    "    for i in range(len(strain)):\n",
    "        stress.append(sigma_s - (sigma_s - sigma_y)*np.exp(-strain[i]/epsilon_0))\n",
    "    \n",
    "    return stress"
   ]
  },
  {
   "cell_type": "code",
   "execution_count": 33,
   "metadata": {},
   "outputs": [
    {
     "name": "stdout",
     "output_type": "stream",
     "text": [
      "[0.2 0.8]\n",
      "[23.406400920712787, 14.037930359893107]\n"
     ]
    }
   ],
   "source": [
    "# Check\n",
    "_test = np.array([0.2, 0.8])\n",
    "print (_test)\n",
    "_result = voce(_test, 10, 30, 0.5)\n",
    "print (_result)\n",
    "#error = np.sum(_result - 23.4064)\n",
    "#if math.fabs(error) < 0.001:\n",
    "#    print('Voce seems to work')"
   ]
  },
  {
   "cell_type": "markdown",
   "metadata": {},
   "source": [
    "### Tricky - fit the parameters to the data\n",
    "\n",
    "Import the optimise module from the scipy package. Use the minimise function to determine the values of the Voce curve parameters that best fit the data. \n",
    "\n",
    "Plot your estimates of the stress using these parameters and the Voce curve on the same axes as the experiment."
   ]
  },
  {
   "cell_type": "code",
   "execution_count": 47,
   "metadata": {},
   "outputs": [
    {
     "data": {
      "text/plain": [
       "(array([3.02820774e+08, 2.14013552e+07, 1.22888845e-01]),\n",
       " array([[3.95751031e+12, 2.53043184e+12, 5.74339897e+03],\n",
       "        [2.53043184e+12, 9.63640634e+12, 7.32981301e+03],\n",
       "        [5.74339897e+03, 7.32981301e+03, 1.18944333e-05]]))"
      ]
     },
     "execution_count": 47,
     "metadata": {},
     "output_type": "execute_result"
    }
   ],
   "source": [
    "import scipy.optimize as sc\n",
    "\n",
    "\n",
    "sc.curve_fit(voce, true_strain, true_stress)"
   ]
  },
  {
   "cell_type": "code",
   "execution_count": 58,
   "metadata": {},
   "outputs": [
    {
     "name": "stdout",
     "output_type": "stream",
     "text": [
      "240884510.8374872\n",
      "237962062.84838215\n"
     ]
    },
    {
     "data": {
      "text/plain": [
       "<function matplotlib.pyplot.show(*args, **kw)>"
      ]
     },
     "execution_count": 58,
     "metadata": {},
     "output_type": "execute_result"
    },
    {
     "data": {
      "image/png": "[encoded data removed]",
      "text/plain": [
       "<Figure size 432x288 with 1 Axes>"
      ]
     },
     "metadata": {
      "needs_background": "light"
     },
     "output_type": "display_data"
    }
   ],
   "source": [
    "voce_stress = voce(true_strain, 3.02820774e+08, 2.14013552e+07, 1.22888845e-01)\n",
    "print(voce_stress[400])\n",
    "print(true_stress[400])\n",
    "plt.plot(true_strain,voce_stress,'r')\n",
    "plt.plot(true_strain,true_stress)\n",
    "plt.xlabel('Strain')\n",
    "plt.ylabel('Stress')\n",
    "plt.title(\"Strain vs Stress\")\n",
    "plt.show"
   ]
  },
  {
   "cell_type": "code",
   "execution_count": null,
   "metadata": {},
   "outputs": [],
   "source": []
  }
 ],
 "metadata": {
  "kernelspec": {
   "display_name": "Python 3",
   "language": "python",
   "name": "python3"
  },
  "language_info": {
   "codemirror_mode": {
    "name": "ipython",
    "version": 3
   },
   "file_extension": ".py",
   "mimetype": "text/x-python",
   "name": "python",
   "nbconvert_exporter": "python",
   "pygments_lexer": "ipython3",
   "version": "3.8.3"
  }
 },
 "nbformat": 4,
 "nbformat_minor": 1
}
