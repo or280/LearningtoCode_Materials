{
 "cells": [
  {
   "cell_type": "markdown",
   "metadata": {},
   "source": [
    "<h1 style=\"text-align: center\">Programming with Python</h1>"
   ]
  },
  {
   "cell_type": "markdown",
   "metadata": {},
   "source": [
    "## Assessment Exercise: Powder diffraction patterns"
   ]
  },
  {
   "cell_type": "markdown",
   "metadata": {},
   "source": [
    "The relative integrated intensity of the $hkl$ X-ray reflection by a powdered crystalline sample as a function of angle, $\\theta$, may be written\n",
    "$$\n",
    "I(\\theta) = \\frac{p}{V^2}\\left[ \\frac{1+\\cos^2 2\\theta}{\\sin^2\\theta\\cos\\theta}\\right]|F_{hkl}|^2\\exp\\left(-\\frac{2B\\sin^2\\theta}{\\lambda^2}\\right), \\quad\\quad\\quad\\mathrm{(1)}\n",
    "$$\n",
    "where:\n",
    "\n",
    "* $\\theta$ is the _Bragg angle_, given by $2d\\sin\\theta = \\lambda$ for X-ray wavelength $\\lambda$ and $hkl$ interplanar spacing, $d$;\n",
    "* $|F_{hkl}|$ is the magnitude of the structure factor;\n",
    "* $p$ is the multiplicity of the $hkl$ reflection;\n",
    "* $V$ is the unit cell volume;\n",
    "* $B$ is the isotropic temperature factor.\n",
    "\n",
    "In this exercise we will simulate a powder diffraction pattern. The cell parameters, $a$, $b$, $c$, $\\alpha$, $\\beta$, $\\gamma$, and list of $hkl$ values contributing to the reflections and their multiplicities will be provided. We will assume $B$ is a constant for all reflections."
   ]
  },
  {
   "cell_type": "code",
   "execution_count": 1,
   "metadata": {},
   "outputs": [],
   "source": [
    "# Some imports that will prove useful\n",
    "import numpy as np\n",
    "import checks"
   ]
  },
  {
   "cell_type": "markdown",
   "metadata": {},
   "source": [
    "---\n",
    "\n",
    "### Question 1\n",
    "Write a function, `calc_V` calculating the volume of the crystal unit cell,\n",
    "$$\n",
    "V = abc\\sqrt{1 - \\cos^2\\alpha - \\cos^2\\beta - \\cos^2\\gamma + 2\\cos\\alpha\\cos\\beta\\cos\\gamma}\n",
    "$$\n"
   ]
  },
  {
   "cell_type": "code",
   "execution_count": 2,
   "metadata": {},
   "outputs": [],
   "source": [
    "# Simplify the cosine and sine expression first so that the expressions for later variables are clearer and neater.\n",
    "\n",
    "def co(angle):\n",
    "    \"\"\"Function to return the cosine of an angle.\"\"\"\n",
    "    \n",
    "    # Use numpy for the cosine function.\n",
    "    cosine = np.cos(angle)\n",
    "    return cosine\n",
    "\n",
    "def si(angle):\n",
    "    \"\"\"Function to return the cosine of an angle.\"\"\"\n",
    "    \n",
    "    # Use numpy for the sine function.\n",
    "    sine = np.sin(angle)\n",
    "    return sine\n",
    "\n",
    "def calc_V(a, b, c, alpha, beta, gamma):\n",
    "    \"\"\"Calculate and return the unit cell volume.\n",
    "    \n",
    "    a, b, c are the cell edge dimensions\n",
    "    alpha, beta, gamma are the cell angles in radians.\n",
    "    \n",
    "    \"\"\"\n",
    "\n",
    "    # Using numpy to get square root and our function from above for cosine.\n",
    "    V = a*b*c*(np.sqrt(1 - (co(alpha)**2) - (co(beta)**2) - (co(gamma)**2) + 2*co(alpha)*co(beta)*co(gamma)))\n",
    "    \n",
    "    return V"
   ]
  },
  {
   "cell_type": "markdown",
   "metadata": {},
   "source": [
    "Test your code by running the following cell"
   ]
  },
  {
   "cell_type": "code",
   "execution_count": 3,
   "metadata": {},
   "outputs": [
    {
     "data": {
      "text/markdown": [
       "**<span style=\"color: green;\">PASSED</span>**"
      ],
      "text/plain": [
       "<IPython.core.display.Markdown object>"
      ]
     },
     "metadata": {},
     "output_type": "display_data"
    }
   ],
   "source": [
    "checks.run_check('check_V', calc_V, hint=True)"
   ]
  },
  {
   "cell_type": "markdown",
   "metadata": {},
   "source": [
    "---\n",
    "\n",
    "### Question 2\n",
    "\n",
    "The _scattering vector_, $\\boldsymbol{q}$, has magnitude\n",
    "$$\n",
    "q = \\frac{4\\pi\\sin\\theta}{\\lambda} = \\frac{2\\pi}{d}\n",
    "$$\n",
    "where the interplanar spacing (the $d$-_spacing_) is given by\n",
    "$$\n",
    "\\frac{1}{d^2} = \\frac{1}{V^2}(S_{11}h^2 + S_{22}k^2 + S_{33}l^2 + 2S_{12}hk + 2S_{23}kl + 2S_{13}{hl}).\n",
    "$$\n",
    "In this equation,\n",
    "$$\n",
    "\\begin{align}\n",
    "S_{11} &= b^2c^2\\sin^2\\alpha\\\\\n",
    "S_{22} &= a^2c^2\\sin^2\\beta\\\\\n",
    "S_{33} &= a^2b^2\\sin^2\\gamma\\\\\n",
    "S_{12} &= abc^2(\\cos\\alpha\\cos\\beta - \\cos\\gamma)\\\\\n",
    "S_{23} &= a^2bc(\\cos\\beta\\cos\\gamma - \\cos\\alpha)\\\\\n",
    "S_{13} &= ab^2c(\\cos\\gamma\\cos\\alpha - \\cos\\beta)\n",
    "\\end{align}\n",
    "$$\n",
    "\n",
    "Write a function, `calc_q` which returns $|q|$ for a given $hkl$ reflection."
   ]
  },
  {
   "cell_type": "code",
   "execution_count": 19,
   "metadata": {},
   "outputs": [],
   "source": [
    "def calc_q(h, k, l):\n",
    "    \"\"\"Calculate and return the magnitude of the scattering vector, q.\n",
    "    \n",
    "    |q| is calculated for the reflection indexed at (h,k,l).\n",
    "    The cell parameters: a, b, c, alpha, beta, gamma are to be\n",
    "    resolved in the containing scope.\n",
    "    \n",
    "    \"\"\"\n",
    "    # the cell parameters in this scope.\n",
    "    a, b, c, alpha, beta, gamma\n",
    "    \n",
    "    # Calculate all the variables (S variables and V) seperately. \n",
    "    S11 = b**2 * c**2 * (si(alpha))**2\n",
    "    S22 = a**2 * c**2 * (si(beta))**2\n",
    "    S33 = b**2 * a**2 * (si(gamma))**2\n",
    "    S12 = a*b* c**2 * (co(alpha)*co(beta) - co(gamma))\n",
    "    S23 = c*b* a**2 * (co(gamma)*co(beta) - co(alpha))\n",
    "    S13 = a*c* b**2 * (co(alpha)*co(gamma) - co(beta))\n",
    "    V = calc_V(a, b, c, alpha, beta, gamma)\n",
    "    \n",
    "    # Calcuate 1/d^2 from the equation given.\n",
    "    recip_d2 = (S11 * h**2 + S22 * k**2 + S33 * l**2 + 2*S12*h*k + 2*S23*k*l + 2*S13*h*l)/(V**2)\n",
    "    \n",
    "    # Use 1/d^2 to get q using Braggs Law.\n",
    "    q = 2*np.pi*np.sqrt(recip_d2)\n",
    "\n",
    "    return q"
   ]
  },
  {
   "cell_type": "markdown",
   "metadata": {},
   "source": [
    "Test your code by running the following cell"
   ]
  },
  {
   "cell_type": "code",
   "execution_count": 20,
   "metadata": {},
   "outputs": [
    {
     "data": {
      "text/markdown": [
       "**<span style=\"color: green;\">PASSED</span>**"
      ],
      "text/plain": [
       "<IPython.core.display.Markdown object>"
      ]
     },
     "metadata": {},
     "output_type": "display_data"
    }
   ],
   "source": [
    "checks.run_check('check_q', calc_q, hint=True)"
   ]
  },
  {
   "cell_type": "markdown",
   "metadata": {},
   "source": [
    "---\n",
    "\n",
    "The structure factor, $F_{hkl}$, is calculated as\n",
    "$$\n",
    "F_{hkl} = \\sum_{i=1}^{N} f_i \\exp[2\\pi i (hx_i + ky_i + lz_i)]\n",
    "$$\n",
    "where $N$ is the number of atoms in the unit cell, $(x_i, y_i, z_i)$ is the position of atom $i$, and $f_i$ is the _atomic form factor_ for atom $i$ (which depends on the atom type and the magnitude of the scattering vector, $q$).\n",
    "\n",
    "The atomic form factor may be described by the formula\n",
    "$$\n",
    "f_i(q) = \\sum_{j=1}^4 a_j \\exp\\left[-b_j\\left(\\frac{q}{4\\pi}\\right)^2\\right] + c,\n",
    "$$\n",
    "where $a_j$, $b_j$, and $c$ are coefficients tabulated in the comma-separated file [`form-factors.csv`](form-factors.csv) for 211 atoms and ions and the magnitude of the scattering vector, $q$ is in $\\mathrm{nm^{-1}}$.\n",
    "\n",
    "### Question 3\n",
    "\n",
    "Write a function which reads in this file to a dictionary, keyed by the the atom or ion symbol as given in the first column. The \"value\" associated with each key should be a numpy array of the nine coefficients $a_1, b_1, a_2, b_2, a_3, b_3, a_4, b_4, c$"
   ]
  },
  {
   "cell_type": "code",
   "execution_count": 6,
   "metadata": {},
   "outputs": [],
   "source": [
    "def read_form_factor_coefs():\n",
    "    \"\"\"Read in the atomic form factor coefficients from form-factors.csv.\n",
    "    \n",
    "    The nine coefficients are returned in a dictionary, keyed by the atom\n",
    "    or ion symbol.\n",
    "    \n",
    "    \"\"\"\n",
    "\n",
    "    # Write all the data into an array initially.\n",
    "    array = np.genfromtxt(\"form-factors.csv\", dtype ='str' ,delimiter=\",\")\n",
    "    \n",
    "    # Set up an empty dictionary.\n",
    "    coeffs = {}\n",
    "    \n",
    "    # Fill the dictionary with keys that are the symbols of the atom and values that are lists of coefficients\n",
    "    # using a loop to loop over the full array of data.\n",
    "    for i in range (211):\n",
    "        coeffs[array[i,0]] = array[i,1:].astype(np.float)\n",
    "        \n",
    "    return coeffs"
   ]
  },
  {
   "cell_type": "markdown",
   "metadata": {},
   "source": [
    "Test your code by running the following cell"
   ]
  },
  {
   "cell_type": "code",
   "execution_count": 7,
   "metadata": {},
   "outputs": [
    {
     "data": {
      "text/markdown": [
       "**<span style=\"color: green;\">PASSED</span>**"
      ],
      "text/plain": [
       "<IPython.core.display.Markdown object>"
      ]
     },
     "metadata": {},
     "output_type": "display_data"
    }
   ],
   "source": [
    "checks.run_check('check_f_coefs', read_form_factor_coefs)"
   ]
  },
  {
   "cell_type": "markdown",
   "metadata": {},
   "source": [
    "### Question 4\n",
    "\n",
    "Now write a function, `calc_f` to calculate the atomic form factor for an atom or ion given its symbol and the magnitude of the scattering vector, $q$.\n"
   ]
  },
  {
   "cell_type": "code",
   "execution_count": 8,
   "metadata": {},
   "outputs": [],
   "source": [
    "# Read in the coefficients for the atomic form factors\n",
    "coeffs = read_form_factor_coefs()\n",
    "\n",
    "def calc_f(symbol, q, coeffs=coeffs):\n",
    "    \"\"\"Calculate and return the atomic form factor.\n",
    "    \n",
    "    symbol is a string identifying the atom or ion (e.g. 'Zn', 'Mg+2')\n",
    "    q is the magnitude of the scattering vector in reciprocal nm.\n",
    "    \n",
    "    \"\"\"\n",
    "\n",
    "    # First get the co-effiecients as a list for the given symbol.\n",
    "    coeff = coeffs[symbol]\n",
    "    \n",
    "    # Set up f = 0 initially.\n",
    "    f = 0\n",
    "    \n",
    "    # Then perform the sum, each time increasing f by the term caluclated. We have to loop over 0 to 7 \n",
    "    # with gaps of 2 as there are 2 coefficients in each term.\n",
    "    for i in range(0,7,2):\n",
    "        f += coeff[i]*(np.exp(-1*coeff[i+1] * ((q/(4*np.pi))**2)))\n",
    "    \n",
    "    # Add on final constant term.\n",
    "    f += coeff[8]\n",
    "    \n",
    "    return f\n",
    "\n"
   ]
  },
  {
   "cell_type": "markdown",
   "metadata": {},
   "source": [
    "Test your code by running the following cell"
   ]
  },
  {
   "cell_type": "code",
   "execution_count": 10,
   "metadata": {},
   "outputs": [
    {
     "data": {
      "text/markdown": [
       "**<span style=\"color: green;\">PASSED</span>**"
      ],
      "text/plain": [
       "<IPython.core.display.Markdown object>"
      ]
     },
     "metadata": {},
     "output_type": "display_data"
    }
   ],
   "source": [
    "checks.run_check('check_form_factor', calc_f, hint=True)\n"
   ]
  },
  {
   "cell_type": "markdown",
   "metadata": {},
   "source": [
    "### Question 5\n",
    "\n",
    "Write a function, `calc_F`, to calculate the magnitude of the structure factor for an $hkl$ reflection, $|F_{hkl}|$. Assume that the atom positions are provided in a list of $N$ tuples: each tuple represents an atom in the unit cell with the first item that atom's symbol and the second a 3-tuple of that atom's fractional coordinates. For example, the atom positions in zinc blende (ZnS) would be represented by\n",
    "\n",
    "    atoms = [( 'Zn', (0.25, 0.25, 0.25) ),\n",
    "             ( 'Zn', (0.75, 0.75, 0.25) ),\n",
    "             ( 'Zn', (0.75, 0.25, 0.75) ),\n",
    "             ( 'Zn', (0.25, 0.75, 0.75) ),\n",
    "             ( 'S', (0.0, 0.0, 0.0) ),\n",
    "             ( 'S', (0.5, 0.5, 0.0) ),\n",
    "             ( 'S', (0.5, 0.0, 0.5) ),\n",
    "             ( 'S', (0.0, 0.5, 0.5) ),\n",
    "            ]"
   ]
  },
  {
   "cell_type": "code",
   "execution_count": 11,
   "metadata": {},
   "outputs": [],
   "source": [
    "def calc_absF(hkl, atoms, q=None):\n",
    "    \"\"\"Return the magnitude of the structure factor for the hkl reflection.\n",
    "    \n",
    "    hkl is a NumPy array of (h, k, l)\n",
    "    atoms is a list of (atom_symbol, atom_position) tuples where atom_symbol\n",
    "    identifies the atom or ion and atom_position is its fractional coordinates\n",
    "    in the unit cell.\n",
    "    q is the magnitude of the scattering vector for the hkl reflection: if it\n",
    "    is not provided, it will be calculated.\n",
    "    \n",
    "    \"\"\"\n",
    "    \n",
    "    # Calculate a q if none already, using the array of miller indices.\n",
    "    if q is None:\n",
    "        q = calc_q(*hkl)\n",
    "    \n",
    "    # Use the array of miller indicies to get each one seperatly.\n",
    "    h = hkl[0]\n",
    "    k = hkl[1]\n",
    "    l = hkl[2]\n",
    "    \n",
    "    # Similar to before, we are summing up terms so set F = 0 initially.\n",
    "    F = 0\n",
    "    \n",
    "    # Perform the sum using the equation given for each term. \n",
    "    for i in range(len(atoms)):\n",
    "        sym = atoms[i][0]\n",
    "        F += (calc_f((sym),q))*np.exp(2*np.pi*1j*(h*atoms[i][1][0] + k*atoms[i][1][1] + l*atoms[i][1][2]))\n",
    "\n",
    "    # Ensure we return an absolute value.\n",
    "    absF = abs(F)\n",
    "\n",
    "    return absF"
   ]
  },
  {
   "cell_type": "markdown",
   "metadata": {},
   "source": [
    "Test your code by running the following cell"
   ]
  },
  {
   "cell_type": "code",
   "execution_count": 12,
   "metadata": {},
   "outputs": [
    {
     "data": {
      "text/markdown": [
       "**<span style=\"color: green;\">PASSED</span>**"
      ],
      "text/plain": [
       "<IPython.core.display.Markdown object>"
      ]
     },
     "metadata": {},
     "output_type": "display_data"
    }
   ],
   "source": [
    "checks.run_check('check_structure_factor', calc_absF, hint=True)"
   ]
  },
  {
   "cell_type": "markdown",
   "metadata": {},
   "source": [
    "---\n",
    "\n",
    "### Question 6\n",
    "\n",
    "Now write a function, `calc_I` to calculate the relative integrated intensity of an X-ray reflection $hkl$ with multiplicity $p$ using equation (1). Take $B = 0$ (that is, ignore temperature effects) and $\\lambda = 0.154\\;\\mathrm{nm}$ (the Cu $\\mathrm{K}_\\alpha$ line). Your code should return `thetaB`, the Bragg angle corresponding to the $hkl$ reflection, and `I`, the reflected intensity at that angle."
   ]
  },
  {
   "cell_type": "code",
   "execution_count": 13,
   "metadata": {},
   "outputs": [],
   "source": [
    "def calc_I(hkl, p, B=0, lam=0.154):\n",
    "    \"\"\"Return the Bragg angle and integrated intensity of reflection hkl.\n",
    "    \n",
    "    hkl is a NumPy array of (h, k, l)\n",
    "    p is the multiplicity of the reflection.\n",
    "    B is the Isotropic temperature factor in nm2.\n",
    "    lam is the X-ray wavelength in nm.\n",
    "    \n",
    "    Returns:\n",
    "    thetaB: the Bragg angle for the reflection hkl.\n",
    "    I: the relative integrated intensity of reflection hkl.\n",
    "    \n",
    "    \"\"\"\n",
    "    # First calculate q, V and the Bragg angle, thetaB, using either previous functions or Braggs Law.\n",
    "    V = calc_V(a, b, c, alpha, beta, gamma)\n",
    "    q = calc_q(*hkl)\n",
    "    thetaB = np.arcsin(lam * q /(4 * np.pi))\n",
    "    \n",
    "    # Then convert equation 1 to code to find the intensity, using thetaB above for theta in the equation.\n",
    "    I = (p/V**2) * ((1 + (co(2*thetaB))**2)/(co(thetaB) * (si(thetaB))**2)) * (calc_absF(hkl, atoms)**2) * np.exp((-2*B*(si(thetaB))**2)/(lam**2))\n",
    "    \n",
    "    return thetaB, I"
   ]
  },
  {
   "cell_type": "markdown",
   "metadata": {},
   "source": [
    "Test your code by running the following cell"
   ]
  },
  {
   "cell_type": "code",
   "execution_count": 14,
   "metadata": {},
   "outputs": [
    {
     "data": {
      "text/markdown": [
       "**<span style=\"color: green;\">PASSED</span>**"
      ],
      "text/plain": [
       "<IPython.core.display.Markdown object>"
      ]
     },
     "metadata": {},
     "output_type": "display_data"
    }
   ],
   "source": [
    "checks.run_check('check_intensity_calculation', calc_I, hint=True)"
   ]
  },
  {
   "cell_type": "markdown",
   "metadata": {},
   "source": [
    "### Question 7\n",
    "\n",
    "Now let's simultate a powder diffraction pattern. First execute the cell below to import the crystallographic data relating to the zinc blende structure of ZnS."
   ]
  },
  {
   "cell_type": "code",
   "execution_count": 15,
   "metadata": {},
   "outputs": [],
   "source": [
    "from ZnS import cellparams, atoms, reflections\n",
    "a, b, c, alpha, beta, gamma = cellparams"
   ]
  },
  {
   "cell_type": "markdown",
   "metadata": {},
   "source": [
    "`reflections` is a list of `( (hkl), p )` tuples where `p` is the multiplicity of the `hkl` reflection. Use your function, `calc_I`, to calculate a list of Bragg angles, `thetaB`, and reflection intensities, `I`. Normalize the intensities so that the maximum intensity is 100."
   ]
  },
  {
   "cell_type": "code",
   "execution_count": 17,
   "metadata": {},
   "outputs": [],
   "source": [
    "# First set up empty list to contain all the data.\n",
    "data = []\n",
    "\n",
    "# Go through all the relections and convert to a Bragg angle and intensity using our function above\n",
    "# and add this to the data list.\n",
    "for i in range (len(reflections)):\n",
    "    data.append(calc_I(reflections[i][0],reflections[i][1]))\n",
    "    \n",
    "# Then seperate the data into seperate lists of bragg angles and intensities.\n",
    "thetaB = [data[i][0] for i in range(len(data))]\n",
    "I = [data[i][1] for i in range(len(data))]\n",
    "\n",
    "\n",
    "# Then normalise list of intensities so max is 100.\n",
    "max_I = np.amax(I)\n",
    "I = (I/max_I) * 100\n"
   ]
  },
  {
   "cell_type": "markdown",
   "metadata": {},
   "source": [
    "### Plotting the simulated pattern\n",
    "\n",
    "Run the following code to plot a simulated powder diffraction pattern from the arrays `thetaB` and `I`"
   ]
  },
  {
   "cell_type": "code",
   "execution_count": 18,
   "metadata": {},
   "outputs": [
    {
     "data": {
      "image/png": "[encoded data removed]",
      "text/plain": [
       "<Figure size 432x288 with 1 Axes>"
      ]
     },
     "metadata": {
      "needs_background": "light"
     },
     "output_type": "display_data"
    }
   ],
   "source": [
    "import matplotlib.pyplot as plt\n",
    "\n",
    "# Some settings to improve the look of the figure: while testing, comment out\n",
    "# these three lines to speed up the time it takes to render the plot.\n",
    "from matplotlib import rc\n",
    "\n",
    "\n",
    "def gaussian(x, x0, sigma):\n",
    "    \"\"\"The normalized Gaussian function centred at x0 with standard deviation sigma.\"\"\"\n",
    "    \n",
    "    return np.exp(-((x-x0)/sigma)**2 / 2) / sigma / np.sqrt(2*np.pi)\n",
    "\n",
    "# Total number of points in the spectrum.\n",
    "n = 1000\n",
    "# Maximum theta (radians)\n",
    "theta_max = np.radians(70)\n",
    "# The grid of angles, theta, and the grid spacing, dtheta.\n",
    "theta_grid, dtheta = np.linspace(0, theta_max, n, retstep=True)\n",
    "# Each reflection is calculated as a Gaussian function out to nwidth\n",
    "# standard deviations (width, in rad).\n",
    "width, nwidths = np.pi / 600, 5\n",
    "# The width of the Gaussian in integer index units\n",
    "h = int(nwidths * width / dtheta)\n",
    "\n",
    "spec = np.zeros(n)\n",
    "for theta, intensity in zip(thetaB, I):\n",
    "    idx = int(n * theta/theta_max)\n",
    "    # This reflection's contribution to the spectrum: the width varies with\n",
    "    # as 1 / cos(theta).\n",
    "    spec[idx-h:idx+h] += intensity * gaussian(theta_grid[idx-h:idx+h], theta_grid[idx],\n",
    "                                              width / np.cos(theta))\n",
    "    \n",
    "    \n",
    "# Make and label the plot.\n",
    "plt.plot(np.degrees(2*theta_grid), spec)\n",
    "plt.xlabel('2theta/deg')\n",
    "plt.ylabel('I/arb units')\n",
    "plt.title('Powder Diffraction pattern of ZnS')\n",
    "plt.show()"
   ]
  },
  {
   "cell_type": "code",
   "execution_count": null,
   "metadata": {
    "collapsed": true
   },
   "outputs": [],
   "source": []
  }
 ],
 "metadata": {
  "anaconda-cloud": {},
  "kernelspec": {
   "display_name": "Python 3",
   "language": "python",
   "name": "python3"
  },
  "language_info": {
   "codemirror_mode": {
    "name": "ipython",
    "version": 3
   },
   "file_extension": ".py",
   "mimetype": "text/x-python",
   "name": "python",
   "nbconvert_exporter": "python",
   "pygments_lexer": "ipython3",
   "version": "3.8.3"
  }
 },
 "nbformat": 4,
 "nbformat_minor": 1
}
